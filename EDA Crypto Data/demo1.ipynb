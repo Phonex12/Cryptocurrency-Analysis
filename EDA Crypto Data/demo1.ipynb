{
 "cells": [
  {
   "cell_type": "code",
   "execution_count": null,
   "id": "640f5c85",
   "metadata": {},
   "outputs": [
    {
     "name": "stderr",
     "output_type": "stream",
     "text": [
      "<>:9: SyntaxWarning: invalid escape sequence '\\C'\n",
      "<>:9: SyntaxWarning: invalid escape sequence '\\C'\n",
      "C:\\Users\\Pallav\\AppData\\Local\\Temp\\ipykernel_6808\\3929707507.py:9: SyntaxWarning: invalid escape sequence '\\C'\n",
      "  df = pd.read_csv('D:\\Crypto\\Data\\crypto_date.csv')\n"
     ]
    }
   ],
   "source": [
    "import pandas as pd\n",
    "import matplotlib.pyplot as plt\n",
    "import seaborn as sns\n",
    "import warnings\n",
    "warnings.filterwarnings(\"ignore\")\n",
    "\n",
    "sns.set(style = 'darkgrid')\n",
    "\n",
    "df = pd.read_csv('D:\\Crypto\\Data\\crypto_date.csv')\n",
    "\n",
    "df.drop(columns='Unnamed: 0',inplace = True)\n",
    "\n",
    "df['date'] = pd.to_datetime(df['date'])\n",
    "df['year'] = df['date'].dt.year\n",
    "df = df.dropna()"
   ]
  },
  {
   "cell_type": "code",
   "execution_count": 2,
   "id": "e572f7ec",
   "metadata": {},
   "outputs": [
    {
     "data": {
      "text/html": [
       "<div>\n",
       "<style scoped>\n",
       "    .dataframe tbody tr th:only-of-type {\n",
       "        vertical-align: middle;\n",
       "    }\n",
       "\n",
       "    .dataframe tbody tr th {\n",
       "        vertical-align: top;\n",
       "    }\n",
       "\n",
       "    .dataframe thead th {\n",
       "        text-align: right;\n",
       "    }\n",
       "</style>\n",
       "<table border=\"1\" class=\"dataframe\">\n",
       "  <thead>\n",
       "    <tr style=\"text-align: right;\">\n",
       "      <th></th>\n",
       "      <th>symbol</th>\n",
       "      <th>name</th>\n",
       "      <th>date</th>\n",
       "      <th>price</th>\n",
       "      <th>total_volume</th>\n",
       "      <th>year</th>\n",
       "    </tr>\n",
       "  </thead>\n",
       "  <tbody>\n",
       "    <tr>\n",
       "      <th>1</th>\n",
       "      <td>LTC</td>\n",
       "      <td>Litecoin</td>\n",
       "      <td>2013-04-29</td>\n",
       "      <td>4.38390</td>\n",
       "      <td>0.000000e+00</td>\n",
       "      <td>2013</td>\n",
       "    </tr>\n",
       "    <tr>\n",
       "      <th>2</th>\n",
       "      <td>LTC</td>\n",
       "      <td>Litecoin</td>\n",
       "      <td>2013-04-30</td>\n",
       "      <td>4.29649</td>\n",
       "      <td>0.000000e+00</td>\n",
       "      <td>2013</td>\n",
       "    </tr>\n",
       "    <tr>\n",
       "      <th>4</th>\n",
       "      <td>LTC</td>\n",
       "      <td>Litecoin</td>\n",
       "      <td>2013-05-01</td>\n",
       "      <td>3.80101</td>\n",
       "      <td>0.000000e+00</td>\n",
       "      <td>2013</td>\n",
       "    </tr>\n",
       "    <tr>\n",
       "      <th>6</th>\n",
       "      <td>LTC</td>\n",
       "      <td>Litecoin</td>\n",
       "      <td>2013-05-02</td>\n",
       "      <td>3.37198</td>\n",
       "      <td>0.000000e+00</td>\n",
       "      <td>2013</td>\n",
       "    </tr>\n",
       "    <tr>\n",
       "      <th>8</th>\n",
       "      <td>LTC</td>\n",
       "      <td>Litecoin</td>\n",
       "      <td>2013-05-03</td>\n",
       "      <td>3.04491</td>\n",
       "      <td>0.000000e+00</td>\n",
       "      <td>2013</td>\n",
       "    </tr>\n",
       "    <tr>\n",
       "      <th>...</th>\n",
       "      <td>...</td>\n",
       "      <td>...</td>\n",
       "      <td>...</td>\n",
       "      <td>...</td>\n",
       "      <td>...</td>\n",
       "      <td>...</td>\n",
       "    </tr>\n",
       "    <tr>\n",
       "      <th>60892</th>\n",
       "      <td>BNB</td>\n",
       "      <td>Binance Coin</td>\n",
       "      <td>2025-08-11</td>\n",
       "      <td>822.93600</td>\n",
       "      <td>2.253678e+09</td>\n",
       "      <td>2025</td>\n",
       "    </tr>\n",
       "    <tr>\n",
       "      <th>60893</th>\n",
       "      <td>USDT</td>\n",
       "      <td>Tether USDt</td>\n",
       "      <td>2025-08-11</td>\n",
       "      <td>1.00001</td>\n",
       "      <td>1.173150e+11</td>\n",
       "      <td>2025</td>\n",
       "    </tr>\n",
       "    <tr>\n",
       "      <th>60894</th>\n",
       "      <td>ETH</td>\n",
       "      <td>Ethereum</td>\n",
       "      <td>2025-08-11</td>\n",
       "      <td>4331.64000</td>\n",
       "      <td>3.721826e+10</td>\n",
       "      <td>2025</td>\n",
       "    </tr>\n",
       "    <tr>\n",
       "      <th>60896</th>\n",
       "      <td>HYPE</td>\n",
       "      <td>Hyperliquid</td>\n",
       "      <td>2025-08-11</td>\n",
       "      <td>46.21050</td>\n",
       "      <td>2.744860e+08</td>\n",
       "      <td>2025</td>\n",
       "    </tr>\n",
       "    <tr>\n",
       "      <th>60897</th>\n",
       "      <td>XRP</td>\n",
       "      <td>XRP</td>\n",
       "      <td>2025-08-11</td>\n",
       "      <td>3.26811</td>\n",
       "      <td>6.022707e+09</td>\n",
       "      <td>2025</td>\n",
       "    </tr>\n",
       "  </tbody>\n",
       "</table>\n",
       "<p>56032 rows × 6 columns</p>\n",
       "</div>"
      ],
      "text/plain": [
       "      symbol          name       date       price  total_volume  year\n",
       "1        LTC      Litecoin 2013-04-29     4.38390  0.000000e+00  2013\n",
       "2        LTC      Litecoin 2013-04-30     4.29649  0.000000e+00  2013\n",
       "4        LTC      Litecoin 2013-05-01     3.80101  0.000000e+00  2013\n",
       "6        LTC      Litecoin 2013-05-02     3.37198  0.000000e+00  2013\n",
       "8        LTC      Litecoin 2013-05-03     3.04491  0.000000e+00  2013\n",
       "...      ...           ...        ...         ...           ...   ...\n",
       "60892    BNB  Binance Coin 2025-08-11   822.93600  2.253678e+09  2025\n",
       "60893   USDT   Tether USDt 2025-08-11     1.00001  1.173150e+11  2025\n",
       "60894    ETH      Ethereum 2025-08-11  4331.64000  3.721826e+10  2025\n",
       "60896   HYPE   Hyperliquid 2025-08-11    46.21050  2.744860e+08  2025\n",
       "60897    XRP           XRP 2025-08-11     3.26811  6.022707e+09  2025\n",
       "\n",
       "[56032 rows x 6 columns]"
      ]
     },
     "execution_count": 2,
     "metadata": {},
     "output_type": "execute_result"
    }
   ],
   "source": [
    "df_alt = df[df['name'] != 'Bitcoin'].copy()\n",
    "df_alt"
   ]
  },
  {
   "cell_type": "code",
   "execution_count": 3,
   "id": "e35917d9",
   "metadata": {},
   "outputs": [],
   "source": [
    "alt_mean = df_alt.groupby('name')['price'].mean().reset_index()"
   ]
  },
  {
   "cell_type": "code",
   "execution_count": 4,
   "id": "b9d25de5",
   "metadata": {},
   "outputs": [
    {
     "data": {
      "text/html": [
       "<div>\n",
       "<style scoped>\n",
       "    .dataframe tbody tr th:only-of-type {\n",
       "        vertical-align: middle;\n",
       "    }\n",
       "\n",
       "    .dataframe tbody tr th {\n",
       "        vertical-align: top;\n",
       "    }\n",
       "\n",
       "    .dataframe thead th {\n",
       "        text-align: right;\n",
       "    }\n",
       "</style>\n",
       "<table border=\"1\" class=\"dataframe\">\n",
       "  <thead>\n",
       "    <tr style=\"text-align: right;\">\n",
       "      <th></th>\n",
       "      <th>name</th>\n",
       "      <th>price</th>\n",
       "    </tr>\n",
       "  </thead>\n",
       "  <tbody>\n",
       "    <tr>\n",
       "      <th>0</th>\n",
       "      <td>Ethereum</td>\n",
       "      <td>1238.402704</td>\n",
       "    </tr>\n",
       "    <tr>\n",
       "      <th>1</th>\n",
       "      <td>Bitcoin Cash</td>\n",
       "      <td>331.498606</td>\n",
       "    </tr>\n",
       "    <tr>\n",
       "      <th>2</th>\n",
       "      <td>Binance Coin</td>\n",
       "      <td>306.076894</td>\n",
       "    </tr>\n",
       "    <tr>\n",
       "      <th>3</th>\n",
       "      <td>Solana</td>\n",
       "      <td>80.053279</td>\n",
       "    </tr>\n",
       "    <tr>\n",
       "      <th>4</th>\n",
       "      <td>Litecoin</td>\n",
       "      <td>64.190498</td>\n",
       "    </tr>\n",
       "    <tr>\n",
       "      <th>5</th>\n",
       "      <td>Avalanche</td>\n",
       "      <td>33.481214</td>\n",
       "    </tr>\n",
       "    <tr>\n",
       "      <th>6</th>\n",
       "      <td>Hyperliquid</td>\n",
       "      <td>27.090783</td>\n",
       "    </tr>\n",
       "    <tr>\n",
       "      <th>7</th>\n",
       "      <td>Chainlink</td>\n",
       "      <td>11.067659</td>\n",
       "    </tr>\n",
       "    <tr>\n",
       "      <th>8</th>\n",
       "      <td>Toncoin</td>\n",
       "      <td>4.094922</td>\n",
       "    </tr>\n",
       "    <tr>\n",
       "      <th>9</th>\n",
       "      <td>UNUS SED LEO</td>\n",
       "      <td>4.004789</td>\n",
       "    </tr>\n",
       "    <tr>\n",
       "      <th>10</th>\n",
       "      <td>Sui</td>\n",
       "      <td>1.875193</td>\n",
       "    </tr>\n",
       "    <tr>\n",
       "      <th>11</th>\n",
       "      <td>USD Coin</td>\n",
       "      <td>1.001484</td>\n",
       "    </tr>\n",
       "    <tr>\n",
       "      <th>12</th>\n",
       "      <td>Tether</td>\n",
       "      <td>1.000470</td>\n",
       "    </tr>\n",
       "    <tr>\n",
       "      <th>13</th>\n",
       "      <td>Tether USDt</td>\n",
       "      <td>1.000120</td>\n",
       "    </tr>\n",
       "    <tr>\n",
       "      <th>14</th>\n",
       "      <td>USDC</td>\n",
       "      <td>0.999905</td>\n",
       "    </tr>\n",
       "    <tr>\n",
       "      <th>15</th>\n",
       "      <td>Ethena USDe</td>\n",
       "      <td>0.537858</td>\n",
       "    </tr>\n",
       "    <tr>\n",
       "      <th>16</th>\n",
       "      <td>Cardano</td>\n",
       "      <td>0.489143</td>\n",
       "    </tr>\n",
       "    <tr>\n",
       "      <th>17</th>\n",
       "      <td>XRP</td>\n",
       "      <td>0.466440</td>\n",
       "    </tr>\n",
       "    <tr>\n",
       "      <th>18</th>\n",
       "      <td>Stellar</td>\n",
       "      <td>0.131549</td>\n",
       "    </tr>\n",
       "    <tr>\n",
       "      <th>19</th>\n",
       "      <td>Hedera</td>\n",
       "      <td>0.122402</td>\n",
       "    </tr>\n",
       "    <tr>\n",
       "      <th>20</th>\n",
       "      <td>TRON</td>\n",
       "      <td>0.077941</td>\n",
       "    </tr>\n",
       "    <tr>\n",
       "      <th>21</th>\n",
       "      <td>Dogecoin</td>\n",
       "      <td>0.058885</td>\n",
       "    </tr>\n",
       "  </tbody>\n",
       "</table>\n",
       "</div>"
      ],
      "text/plain": [
       "            name        price\n",
       "0       Ethereum  1238.402704\n",
       "1   Bitcoin Cash   331.498606\n",
       "2   Binance Coin   306.076894\n",
       "3         Solana    80.053279\n",
       "4       Litecoin    64.190498\n",
       "5      Avalanche    33.481214\n",
       "6    Hyperliquid    27.090783\n",
       "7      Chainlink    11.067659\n",
       "8        Toncoin     4.094922\n",
       "9   UNUS SED LEO     4.004789\n",
       "10           Sui     1.875193\n",
       "11      USD Coin     1.001484\n",
       "12        Tether     1.000470\n",
       "13   Tether USDt     1.000120\n",
       "14          USDC     0.999905\n",
       "15   Ethena USDe     0.537858\n",
       "16       Cardano     0.489143\n",
       "17           XRP     0.466440\n",
       "18       Stellar     0.131549\n",
       "19        Hedera     0.122402\n",
       "20          TRON     0.077941\n",
       "21      Dogecoin     0.058885"
      ]
     },
     "execution_count": 4,
     "metadata": {},
     "output_type": "execute_result"
    }
   ],
   "source": [
    "alt_mean.sort_values(by = 'price',ascending = False,inplace = True,ignore_index=True)\n",
    "alt_mean"
   ]
  },
  {
   "cell_type": "code",
   "execution_count": 5,
   "id": "73ab6093",
   "metadata": {},
   "outputs": [],
   "source": [
    "p1 = alt_mean.head(10)\n",
    "p1['price'] = p1['price'].astype('int')"
   ]
  },
  {
   "cell_type": "code",
   "execution_count": 6,
   "id": "bef4e1b4",
   "metadata": {},
   "outputs": [],
   "source": [
    "names = p1['name'].values\n",
    "avg = p1['price'].values"
   ]
  },
  {
   "cell_type": "code",
   "execution_count": 7,
   "id": "6aa2095c",
   "metadata": {},
   "outputs": [
    {
     "data": {
      "image/png": "[encoded data removed]",
      "text/plain": [
       "<Figure size 1000x600 with 1 Axes>"
      ]
     },
     "metadata": {},
     "output_type": "display_data"
    }
   ],
   "source": [
    "plt.figure(figsize = (10,6))\n",
    "sns.barplot(data = p1,x = 'name',y = 'price',hue = 'price',palette='bright')\n",
    "plt.title('TOP 10 ALTCOINS BY AVERAGE PRICE USD($)',fontsize = 15,fontweight = 'bold',fontfamily= 'Times New Roman')\n",
    "plt.xlabel('Name of the Coins')\n",
    "plt.ylabel('Average Price in USD($)')\n",
    "plt.xticks(rotation = 45,ha = 'center',fontweight = 'bold')\n",
    "plt.legend().set_visible(False)\n",
    "for i in range(len(p1)):\n",
    "    plt.text(i,avg[i]+10,f'${avg[i]}',ha = 'center')\n",
    "\n",
    "\n"
   ]
  },
  {
   "cell_type": "code",
   "execution_count": 8,
   "id": "19dea8aa",
   "metadata": {},
   "outputs": [],
   "source": [
    "df_BTC = df[df['name'] == 'Bitcoin'].copy()"
   ]
  },
  {
   "cell_type": "code",
   "execution_count": 9,
   "id": "7388e995",
   "metadata": {},
   "outputs": [
    {
     "data": {
      "text/plain": [
       "np.float64(121785.0)"
      ]
     },
     "execution_count": 9,
     "metadata": {},
     "output_type": "execute_result"
    }
   ],
   "source": [
    "df_BTC['price'].max()                        "
   ]
  },
  {
   "cell_type": "code",
   "execution_count": 10,
   "id": "112ff1bf",
   "metadata": {},
   "outputs": [],
   "source": [
    "df_alt = df_alt.groupby('date')['price'].sum()"
   ]
  },
  {
   "cell_type": "code",
   "execution_count": 11,
   "id": "af41b905",
   "metadata": {},
   "outputs": [],
   "source": [
    "df_alt = df_alt.reset_index()"
   ]
  },
  {
   "cell_type": "code",
   "execution_count": 12,
   "id": "d6242289",
   "metadata": {},
   "outputs": [],
   "source": [
    "df_alt\n",
    "df_BTC = df_BTC[['date','price']].reset_index()"
   ]
  },
  {
   "cell_type": "code",
   "execution_count": 13,
   "id": "15b9058a",
   "metadata": {},
   "outputs": [],
   "source": [
    "df_BTC.drop(columns = 'index',inplace = True)"
   ]
  },
  {
   "cell_type": "code",
   "execution_count": 14,
   "id": "5f4e5722",
   "metadata": {},
   "outputs": [],
   "source": [
    "df_merged = pd.merge(df_alt,df_BTC,on = 'date',suffixes=('_alt','_btc'))"
   ]
  },
  {
   "cell_type": "code",
   "execution_count": 15,
   "id": "138f2aa6",
   "metadata": {},
   "outputs": [],
   "source": [
    "btc_mean =df_merged['price_btc'].mean()\n",
    "alt_mean =df_merged['price_alt'].mean()"
   ]
  },
  {
   "cell_type": "code",
   "execution_count": 20,
   "id": "322d3e8a",
   "metadata": {},
   "outputs": [],
   "source": [
    "p2 = {\n",
    "    'Bitcoin':btc_mean,\n",
    "    'All Others':alt_mean\n",
    "}\n",
    "df_p2 = pd.DataFrame(list(p2.items()), columns=['name', 'price'])\n",
    "df_p2['price'] = df_p2['price'].astype('int')"
   ]
  },
  {
   "cell_type": "code",
   "execution_count": 35,
   "id": "b20f9106",
   "metadata": {},
   "outputs": [
    {
     "data": {
      "text/plain": [
       "Text(0.5, 1.0, 'AVERAGE PRICE BITCOIN V/S ALTCOINS USD($)')"
      ]
     },
     "execution_count": 35,
     "metadata": {},
     "output_type": "execute_result"
    },
    {
     "data": {
      "image/png": "[encoded data removed]",
      "text/plain": [
       "<Figure size 1000x600 with 1 Axes>"
      ]
     },
     "metadata": {},
     "output_type": "display_data"
    }
   ],
   "source": [
    "color = ['#FFD700','#4682B4']\n",
    "plt.figure(figsize = (10,6))\n",
    "plt.pie(\n",
    "    df_p2['price'],\n",
    "    labels = df_p2['name'],\n",
    "    autopct=lambda pct: f\"{pct:.1f}%\\n(${(pct/100)*df_p2['price'].sum():,.0f})\",\n",
    "    startangle=90,\n",
    "    colors = color,\n",
    "    explode = (0.1,0)\n",
    ")\n",
    "plt.title('AVERAGE PRICE BITCOIN V/S ALTCOINS USD($)')\n"
   ]
  }
 ],
 "metadata": {
  "kernelspec": {
   "display_name": "Python 3",
   "language": "python",
   "name": "python3"
  },
  "language_info": {
   "codemirror_mode": {
    "name": "ipython",
    "version": 3
   },
   "file_extension": ".py",
   "mimetype": "text/x-python",
   "name": "python",
   "nbconvert_exporter": "python",
   "pygments_lexer": "ipython3",
   "version": "3.13.5"
  }
 },
 "nbformat": 4,
 "nbformat_minor": 5
}
