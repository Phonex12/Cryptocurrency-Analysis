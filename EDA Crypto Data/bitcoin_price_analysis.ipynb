{
 "cells": [
  {
   "cell_type": "markdown",
   "id": "87b9576e",
   "metadata": {},
   "source": [
    "### **Importing required library**"
   ]
  },
  {
   "cell_type": "code",
   "execution_count": 1,
   "id": "56152d96",
   "metadata": {},
   "outputs": [],
   "source": [
    "import pandas as pd\n",
    "import matplotlib.pyplot as plt\n",
    "import seaborn as sns"
   ]
  },
  {
   "cell_type": "markdown",
   "id": "09371b3e",
   "metadata": {},
   "source": [
    " **Setting the style of the Graphs**"
   ]
  },
  {
   "cell_type": "code",
   "execution_count": 37,
   "id": "893913a8",
   "metadata": {},
   "outputs": [],
   "source": [
    "sns.set(style = 'darkgrid')\n",
    "import warnings\n",
    "warnings.filterwarnings(\"ignore\")"
   ]
  },
  {
   "cell_type": "markdown",
   "id": "673800be",
   "metadata": {},
   "source": [
    "**Importing data and Performing Cleanups**"
   ]
  },
  {
   "cell_type": "code",
   "execution_count": 143,
   "id": "a1f6f9f2",
   "metadata": {},
   "outputs": [],
   "source": [
    "df = pd.read_csv('D:\\Crypto\\Data\\crypto_date.csv')"
   ]
  },
  {
   "cell_type": "code",
   "execution_count": 12,
   "id": "78d7f296",
   "metadata": {},
   "outputs": [],
   "source": [
    "df_BTC = df[df['name'] =='Bitcoin']"
   ]
  },
  {
   "cell_type": "code",
   "execution_count": 23,
   "id": "ab0f3599",
   "metadata": {},
   "outputs": [],
   "source": [
    "df_BTC['date'] = pd.to_datetime(df_BTC['date'])"
   ]
  },
  {
   "cell_type": "code",
   "execution_count": 18,
   "id": "3d3a7d51",
   "metadata": {},
   "outputs": [],
   "source": [
    "df_BTC.sort_values(by = 'date',ignore_index=True,inplace=True)"
   ]
  },
  {
   "cell_type": "code",
   "execution_count": 22,
   "id": "011edea7",
   "metadata": {},
   "outputs": [
    {
     "name": "stdout",
     "output_type": "stream",
     "text": [
      "<class 'pandas.core.frame.DataFrame'>\n",
      "RangeIndex: 4487 entries, 0 to 4486\n",
      "Data columns (total 6 columns):\n",
      " #   Column        Non-Null Count  Dtype         \n",
      "---  ------        --------------  -----         \n",
      " 0   id            4487 non-null   int64         \n",
      " 1   symbol        4487 non-null   object        \n",
      " 2   name          4487 non-null   object        \n",
      " 3   date          4487 non-null   datetime64[ns]\n",
      " 4   price         4487 non-null   float64       \n",
      " 5   total_volume  4487 non-null   float64       \n",
      "dtypes: datetime64[ns](1), float64(2), int64(1), object(2)\n",
      "memory usage: 210.5+ KB\n"
     ]
    }
   ],
   "source": [
    "df_BTC.info()"
   ]
  },
  {
   "cell_type": "code",
   "execution_count": 24,
   "id": "64838df8",
   "metadata": {},
   "outputs": [],
   "source": [
    "df_BTC['year'] =df_BTC['date'].dt.year"
   ]
  },
  {
   "cell_type": "code",
   "execution_count": 50,
   "id": "57800b2f",
   "metadata": {},
   "outputs": [],
   "source": [
    "df_BTC_price = df_BTC.groupby('year')['price'].mean().reset_index()"
   ]
  },
  {
   "cell_type": "code",
   "execution_count": 98,
   "id": "0ea1df92",
   "metadata": {},
   "outputs": [
    {
     "data": {
      "text/html": [
       "<div>\n",
       "<style scoped>\n",
       "    .dataframe tbody tr th:only-of-type {\n",
       "        vertical-align: middle;\n",
       "    }\n",
       "\n",
       "    .dataframe tbody tr th {\n",
       "        vertical-align: top;\n",
       "    }\n",
       "\n",
       "    .dataframe thead th {\n",
       "        text-align: right;\n",
       "    }\n",
       "</style>\n",
       "<table border=\"1\" class=\"dataframe\">\n",
       "  <thead>\n",
       "    <tr style=\"text-align: right;\">\n",
       "      <th></th>\n",
       "      <th>year</th>\n",
       "      <th>price</th>\n",
       "    </tr>\n",
       "  </thead>\n",
       "  <tbody>\n",
       "    <tr>\n",
       "      <th>0</th>\n",
       "      <td>2013</td>\n",
       "      <td>257.973504</td>\n",
       "    </tr>\n",
       "    <tr>\n",
       "      <th>1</th>\n",
       "      <td>2014</td>\n",
       "      <td>527.236458</td>\n",
       "    </tr>\n",
       "    <tr>\n",
       "      <th>2</th>\n",
       "      <td>2015</td>\n",
       "      <td>272.453381</td>\n",
       "    </tr>\n",
       "    <tr>\n",
       "      <th>3</th>\n",
       "      <td>2016</td>\n",
       "      <td>568.492407</td>\n",
       "    </tr>\n",
       "    <tr>\n",
       "      <th>4</th>\n",
       "      <td>2017</td>\n",
       "      <td>4006.033633</td>\n",
       "    </tr>\n",
       "    <tr>\n",
       "      <th>5</th>\n",
       "      <td>2018</td>\n",
       "      <td>7572.298877</td>\n",
       "    </tr>\n",
       "    <tr>\n",
       "      <th>6</th>\n",
       "      <td>2019</td>\n",
       "      <td>7395.246630</td>\n",
       "    </tr>\n",
       "    <tr>\n",
       "      <th>7</th>\n",
       "      <td>2020</td>\n",
       "      <td>11116.377377</td>\n",
       "    </tr>\n",
       "    <tr>\n",
       "      <th>8</th>\n",
       "      <td>2021</td>\n",
       "      <td>47438.539726</td>\n",
       "    </tr>\n",
       "    <tr>\n",
       "      <th>9</th>\n",
       "      <td>2022</td>\n",
       "      <td>28185.670959</td>\n",
       "    </tr>\n",
       "    <tr>\n",
       "      <th>10</th>\n",
       "      <td>2023</td>\n",
       "      <td>28851.698630</td>\n",
       "    </tr>\n",
       "    <tr>\n",
       "      <th>11</th>\n",
       "      <td>2024</td>\n",
       "      <td>65965.725410</td>\n",
       "    </tr>\n",
       "    <tr>\n",
       "      <th>12</th>\n",
       "      <td>2025</td>\n",
       "      <td>99623.971622</td>\n",
       "    </tr>\n",
       "  </tbody>\n",
       "</table>\n",
       "</div>"
      ],
      "text/plain": [
       "    year         price\n",
       "0   2013    257.973504\n",
       "1   2014    527.236458\n",
       "2   2015    272.453381\n",
       "3   2016    568.492407\n",
       "4   2017   4006.033633\n",
       "5   2018   7572.298877\n",
       "6   2019   7395.246630\n",
       "7   2020  11116.377377\n",
       "8   2021  47438.539726\n",
       "9   2022  28185.670959\n",
       "10  2023  28851.698630\n",
       "11  2024  65965.725410\n",
       "12  2025  99623.971622"
      ]
     },
     "execution_count": 98,
     "metadata": {},
     "output_type": "execute_result"
    }
   ],
   "source": [
    "df_BTC_price"
   ]
  },
  {
   "cell_type": "code",
   "execution_count": 76,
   "id": "37b6dcbd",
   "metadata": {},
   "outputs": [],
   "source": [
    "df_BTC_price = df_BTC_price.sort_index()"
   ]
  },
  {
   "cell_type": "code",
   "execution_count": 92,
   "id": "bab669f1",
   "metadata": {},
   "outputs": [],
   "source": [
    "t1 = df_BTC_price.head(7)\n",
    "t2 = df_BTC_price.tail(6)"
   ]
  },
  {
   "cell_type": "code",
   "execution_count": 93,
   "id": "b66cdfc3",
   "metadata": {},
   "outputs": [
    {
     "data": {
      "text/html": [
       "<div>\n",
       "<style scoped>\n",
       "    .dataframe tbody tr th:only-of-type {\n",
       "        vertical-align: middle;\n",
       "    }\n",
       "\n",
       "    .dataframe tbody tr th {\n",
       "        vertical-align: top;\n",
       "    }\n",
       "\n",
       "    .dataframe thead th {\n",
       "        text-align: right;\n",
       "    }\n",
       "</style>\n",
       "<table border=\"1\" class=\"dataframe\">\n",
       "  <thead>\n",
       "    <tr style=\"text-align: right;\">\n",
       "      <th></th>\n",
       "      <th>year</th>\n",
       "      <th>price</th>\n",
       "    </tr>\n",
       "  </thead>\n",
       "  <tbody>\n",
       "    <tr>\n",
       "      <th>0</th>\n",
       "      <td>2013</td>\n",
       "      <td>257.973504</td>\n",
       "    </tr>\n",
       "    <tr>\n",
       "      <th>1</th>\n",
       "      <td>2014</td>\n",
       "      <td>527.236458</td>\n",
       "    </tr>\n",
       "    <tr>\n",
       "      <th>2</th>\n",
       "      <td>2015</td>\n",
       "      <td>272.453381</td>\n",
       "    </tr>\n",
       "    <tr>\n",
       "      <th>3</th>\n",
       "      <td>2016</td>\n",
       "      <td>568.492407</td>\n",
       "    </tr>\n",
       "    <tr>\n",
       "      <th>4</th>\n",
       "      <td>2017</td>\n",
       "      <td>4006.033633</td>\n",
       "    </tr>\n",
       "    <tr>\n",
       "      <th>5</th>\n",
       "      <td>2018</td>\n",
       "      <td>7572.298877</td>\n",
       "    </tr>\n",
       "    <tr>\n",
       "      <th>6</th>\n",
       "      <td>2019</td>\n",
       "      <td>7395.246630</td>\n",
       "    </tr>\n",
       "  </tbody>\n",
       "</table>\n",
       "</div>"
      ],
      "text/plain": [
       "   year        price\n",
       "0  2013   257.973504\n",
       "1  2014   527.236458\n",
       "2  2015   272.453381\n",
       "3  2016   568.492407\n",
       "4  2017  4006.033633\n",
       "5  2018  7572.298877\n",
       "6  2019  7395.246630"
      ]
     },
     "execution_count": 93,
     "metadata": {},
     "output_type": "execute_result"
    }
   ],
   "source": [
    "t1"
   ]
  },
  {
   "cell_type": "code",
   "execution_count": 52,
   "id": "05a95022",
   "metadata": {},
   "outputs": [],
   "source": [
    "df_BTC_price = df_BTC_price.sort_values(by = 'price',ascending = False)"
   ]
  },
  {
   "cell_type": "markdown",
   "id": "037c63cb",
   "metadata": {},
   "source": [
    "**Plotting the Data**"
   ]
  },
  {
   "cell_type": "code",
   "execution_count": null,
   "id": "2fca55aa",
   "metadata": {},
   "outputs": [
    {
     "data": {
      "text/plain": [
       "Text(0.5, 0, 'Years')"
      ]
     },
     "execution_count": 106,
     "metadata": {},
     "output_type": "execute_result"
    },
    {
     "data": {
      "image/png": "[encoded data removed]",
      "text/plain": [
       "<Figure size 1000x600 with 1 Axes>"
      ]
     },
     "metadata": {},
     "output_type": "display_data"
    }
   ],
   "source": [
    "plt.figure(figsize = (10,6))\n",
    "sns.lineplot(data = df_BTC_price,x = 'year',y = 'price',marker= 'o',color=\"#f7931a\")\n",
    "plt.title('Average Bitcoin Price Per Year(2013-2025)',fontfamily = 'Georgia',fontweight = 'bold',fontsize = 12)\n",
    "plt.ylabel('Price in USD($)')\n",
    "plt.xlabel('Years')"
   ]
  },
  {
   "cell_type": "markdown",
   "id": "40bff52e",
   "metadata": {},
   "source": [
    "This plot Shows us the change in average Bitcoin Price over the years"
   ]
  }
 ],
 "metadata": {
  "kernelspec": {
   "display_name": "Python 3",
   "language": "python",
   "name": "python3"
  },
  "language_info": {
   "codemirror_mode": {
    "name": "ipython",
    "version": 3
   },
   "file_extension": ".py",
   "mimetype": "text/x-python",
   "name": "python",
   "nbconvert_exporter": "python",
   "pygments_lexer": "ipython3",
   "version": "3.13.5"
  }
 },
 "nbformat": 4,
 "nbformat_minor": 5
}
